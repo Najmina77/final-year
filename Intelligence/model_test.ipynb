{
 "cells": [
  {
   "cell_type": "code",
   "execution_count": 10,
   "metadata": {},
   "outputs": [],
   "source": [
    "import statsmodels.api as sm\n",
    "import pandas as pd\n",
    "import datetime\n",
    "import pickle"
   ]
  },
  {
   "cell_type": "code",
   "execution_count": 8,
   "metadata": {},
   "outputs": [
    {
     "name": "stdout",
     "output_type": "stream",
     "text": [
      "            lower temp_actual  upper temp_actual\n",
      "2021-07-30        -112.395618         -85.557894\n"
     ]
    }
   ],
   "source": [
    "\n",
    "nyeri_weather_model = sm.load(r'C:\\Users\\humph\\Desktop\\Folder\\Najma\\final-year\\weather_pred_project\\accounts\\ml_models\\nyeri_weather_model')\n",
    "pred = nyeri_weather_model.get_prediction(start=pd.to_datetime('20210730'), dynamic=False)\n",
    "pred_ci = pred.conf_int()\n",
    "print(pred_ci)\n",
    "low_temp = pred_ci['lower temp_actual'].tolist()[0]\n",
    "high_temp = pred_ci['upper temp_actual'].tolist()[0] \n",
    "mean_temp = (low_temp + high_temp)/2\n",
    "message = 'The lowest temp : {}, the highest temp  : {}, and the mean temp : {}'.format(low_temp, high_temp, mean_temp)\n"
   ]
  },
  {
   "cell_type": "code",
   "execution_count": 9,
   "metadata": {},
   "outputs": [
    {
     "name": "stdout",
     "output_type": "stream",
     "text": [
      "            lower temp_actual  upper temp_actual\n",
      "2021-07-30          13.168615          15.881839\n"
     ]
    }
   ],
   "source": [
    "\n",
    "nyeri_weather_model = sm.load('nyeri_weather_model')\n",
    "pred = nyeri_weather_model.get_prediction(start=pd.to_datetime('20210730'), dynamic=False)\n",
    "pred_ci = pred.conf_int()\n",
    "print(pred_ci)\n",
    "low_temp = pred_ci['lower temp_actual'].tolist()[0]\n",
    "high_temp = pred_ci['upper temp_actual'].tolist()[0] \n",
    "mean_temp = (low_temp + high_temp)/2\n",
    "message = 'The lowest temp : {}, the highest temp  : {}, and the mean temp : {}'.format(low_temp, high_temp, mean_temp)\n"
   ]
  },
  {
   "cell_type": "code",
   "execution_count": 11,
   "metadata": {},
   "outputs": [
    {
     "data": {
      "text/html": [
       "<div>\n",
       "<style scoped>\n",
       "    .dataframe tbody tr th:only-of-type {\n",
       "        vertical-align: middle;\n",
       "    }\n",
       "\n",
       "    .dataframe tbody tr th {\n",
       "        vertical-align: top;\n",
       "    }\n",
       "\n",
       "    .dataframe thead th {\n",
       "        text-align: right;\n",
       "    }\n",
       "</style>\n",
       "<table border=\"1\" class=\"dataframe\">\n",
       "  <thead>\n",
       "    <tr style=\"text-align: right;\">\n",
       "      <th></th>\n",
       "      <th>lower temp_actual</th>\n",
       "      <th>upper temp_actual</th>\n",
       "    </tr>\n",
       "  </thead>\n",
       "  <tbody>\n",
       "    <tr>\n",
       "      <th>2021-08-03</th>\n",
       "      <td>14.817879</td>\n",
       "      <td>18.326054</td>\n",
       "    </tr>\n",
       "  </tbody>\n",
       "</table>\n",
       "</div>"
      ],
      "text/plain": [
       "            lower temp_actual  upper temp_actual\n",
       "2021-08-03          14.817879          18.326054"
      ]
     },
     "execution_count": 11,
     "metadata": {},
     "output_type": "execute_result"
    }
   ],
   "source": [
    "embu_model_name = 'embu_weather_model' \n",
    "loaded_model = pickle.load(open(embu_model_name, 'rb'))\n",
    "pred = loaded_model.get_prediction(start=pd.to_datetime('20210803'), dynamic=False)\n",
    "pred_ci = pred.conf_int()\n",
    "pred_ci"
   ]
  },
  {
   "cell_type": "code",
   "execution_count": null,
   "metadata": {},
   "outputs": [],
   "source": []
  }
 ],
 "metadata": {
  "kernelspec": {
   "display_name": "Python 3",
   "language": "python",
   "name": "python3"
  },
  "language_info": {
   "codemirror_mode": {
    "name": "ipython",
    "version": 3
   },
   "file_extension": ".py",
   "mimetype": "text/x-python",
   "name": "python",
   "nbconvert_exporter": "python",
   "pygments_lexer": "ipython3",
   "version": "3.8.3"
  }
 },
 "nbformat": 4,
 "nbformat_minor": 4
}
