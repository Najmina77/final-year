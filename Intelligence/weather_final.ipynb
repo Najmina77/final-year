{
 "cells": [
  {
   "cell_type": "code",
   "execution_count": 13,
   "metadata": {},
   "outputs": [],
   "source": [
    "import requests\n",
    "import pandas as pd\n",
    "import numpy as np\n",
    "import json\n",
    "import matplotlib.pyplot as plt\n",
    "import itertools\n",
    "import warnings\n",
    "import datetime\n",
    "import pickle\n",
    "# Import the statsmodels library for using SARIMAX model\n",
    "import statsmodels.api as sm\n",
    "from statsmodels.tsa.seasonal import seasonal_decompose\n",
    "\n",
    "warnings.filterwarnings(\"ignore\") # specify to ignore warning messages"
   ]
  },
  {
   "cell_type": "code",
   "execution_count": 2,
   "metadata": {},
   "outputs": [
    {
     "data": {
      "text/plain": [
       "'20210729'"
      ]
     },
     "execution_count": 2,
     "metadata": {},
     "output_type": "execute_result"
    }
   ],
   "source": [
    "# get the current date in the format yyyddmm\n",
    "now_date = datetime.datetime.now()\n",
    "now_date_str = str(now_date)\n",
    "now_date_split = now_date_str.split('-')\n",
    "now_day = now_date_split[2].split(' ')[0]\n",
    "now_date_only = '{}{}{}'.format(now_date_split[0], now_date_split[1], now_day)\n",
    "now_date_only"
   ]
  },
  {
   "cell_type": "code",
   "execution_count": 3,
   "metadata": {},
   "outputs": [],
   "source": [
    "#download data for embu, nyeri aand nanyuki as test cities\n",
    "\n",
    "def get_embu_data_from_2021():\n",
    "    day_data_url = 'https://power.larc.nasa.gov/cgi-bin/v1/DataAccess.py?&request=execute&identifier=SinglePoint&parameters=PRECTOT,T2M,WS2M&startDate=20200101&endDate=20210725&userCommunity=AG&tempAverage=DAILY&outputList=CSV&lat=-0.5423&lon=37.4543'\n",
    "    response = requests.get(day_data_url)\n",
    "    day_data = response.content.decode('utf-8')\n",
    "    day_data = json.loads(day_data)\n",
    "    features = day_data['features']\n",
    "    features = features[0]\n",
    "    properties = features['properties']\n",
    "    parameters = properties['parameter']\n",
    "    precipitation = parameters['PRECTOT'] #\n",
    "    temp = parameters['T2M']\n",
    "    wind = parameters['WS2M']\n",
    "    \n",
    "    return (precipitation, temp, wind)\n",
    "\n",
    "def get_nyeri_data_from_2021():\n",
    "    day_data_url = 'https://power.larc.nasa.gov/cgi-bin/v1/DataAccess.py?&request=execute&identifier=SinglePoint&parameters=PRECTOT,T2M,WS2M&startDate=20200101&endDate=20210725&userCommunity=AG&tempAverage=DAILY&outputList=CSV&lat=-0.4371&lon=36.9580'\n",
    "    response = requests.get(day_data_url)\n",
    "    day_data = response.content.decode('utf-8')\n",
    "    day_data = json.loads(day_data)\n",
    "    features = day_data['features']\n",
    "    features = features[0]\n",
    "    properties = features['properties']\n",
    "    parameters = properties['parameter']\n",
    "    precipitation = parameters['PRECTOT'] #\n",
    "    temp = parameters['T2M']\n",
    "    wind = parameters['WS2M']\n",
    "    \n",
    "    return (precipitation, temp, wind)\n",
    "\n",
    "\n",
    "def get_nanyuki_data_from_2021():\n",
    "    day_data_url = 'https://power.larc.nasa.gov/cgi-bin/v1/DataAccess.py?&request=execute&identifier=SinglePoint&parameters=PRECTOT,T2M,WS2M&startDate=20200101&endDate=20210725&userCommunity=AG&tempAverage=DAILY&outputList=CSV&lat=0.0074&lon=37.0722'\n",
    "    response = requests.get(day_data_url)\n",
    "    day_data = response.content.decode('utf-8')\n",
    "    day_data = json.loads(day_data)\n",
    "    features = day_data['features']\n",
    "    features = features[0]\n",
    "    properties = features['properties']\n",
    "    parameters = properties['parameter']\n",
    "    precipitation = parameters['PRECTOT'] #\n",
    "    temp = parameters['T2M']\n",
    "    wind = parameters['WS2M']\n",
    "    \n",
    "    return (precipitation, temp, wind)\n",
    "\n"
   ]
  },
  {
   "cell_type": "code",
   "execution_count": 4,
   "metadata": {},
   "outputs": [
    {
     "name": "stdout",
     "output_type": "stream",
     "text": [
      "Downloading data for Nyeri, Embu and Nanyuki as test citues\n"
     ]
    }
   ],
   "source": [
    "#get the rainfall, temperature and wind for each of the test cities\n",
    "print('Downloading data for Nyeri, Embu and Nanyuki as test citues')\n",
    "embu_precipitation, embu_temp, embu_wind = get_embu_data_from_2021()\n",
    "nyeri_precipitation, nyeri_temp, nyeri_wind = get_nyeri_data_from_2021()\n",
    "nanyuki_precipitation, nanyuki_temp, nanyuki_wind = get_nanyuki_data_from_2021()"
   ]
  },
  {
   "cell_type": "code",
   "execution_count": 5,
   "metadata": {},
   "outputs": [],
   "source": [
    "#convert the dictionaries to lists to form dataframes later\n",
    "\n",
    "#for Embu\n",
    "embu_dates = []\n",
    "embu_temp_values = []\n",
    "embu_precipitation_values = []\n",
    "embu_wind_values = []\n",
    "\n",
    "for key, value in embu_precipitation.items():\n",
    "    embu_dates.append(key)\n",
    "    embu_precipitation_values.append(value)\n",
    "    \n",
    "for key, value in embu_temp.items():\n",
    "    embu_temp_values.append(value)\n",
    "    \n",
    "for key, value in embu_wind.items():\n",
    "    embu_wind_values.append(value)\n",
    "    \n",
    "#for Nyeri\n",
    "nyeri_dates = []\n",
    "nyeri_temp_values = []\n",
    "nyeri_precipitation_values = []\n",
    "nyeri_wind_values = []\n",
    "\n",
    "for key, value in nyeri_precipitation.items():\n",
    "    nyeri_dates.append(key)\n",
    "    nyeri_precipitation_values.append(value)\n",
    "    \n",
    "for key, value in nyeri_temp.items():\n",
    "    nyeri_temp_values.append(value)\n",
    "    \n",
    "for key, value in nyeri_wind.items():\n",
    "    nyeri_wind_values.append(value)\n",
    "    \n",
    "    \n",
    "#for Nanyuki\n",
    "nanyuki_dates = []\n",
    "nanyuki_temp_values = []\n",
    "nanyuki_precipitation_values = []\n",
    "nanyuki_wind_values = []\n",
    "\n",
    "for key, value in nanyuki_precipitation.items():\n",
    "    nanyuki_dates.append(key)\n",
    "    nanyuki_precipitation_values.append(value)\n",
    "    \n",
    "for key, value in nanyuki_temp.items():\n",
    "    nanyuki_temp_values.append(value)\n",
    "    \n",
    "for key, value in nanyuki_wind.items():\n",
    "    nanyuki_wind_values.append(value)\n",
    "    "
   ]
  },
  {
   "cell_type": "code",
   "execution_count": 6,
   "metadata": {},
   "outputs": [],
   "source": [
    "# form dataframes, for use later in the project for processing the data\n",
    "\n",
    "embu_df = pd.DataFrame()\n",
    "embu_df['datetime'] = embu_dates\n",
    "embu_df['precipitation'] = embu_precipitation_values\n",
    "embu_df['temp'] = embu_temp_values\n",
    "embu_df['wind'] = embu_wind_values\n",
    "\n",
    "nyeri_df = pd.DataFrame()\n",
    "nyeri_df['datetime'] = nyeri_dates\n",
    "nyeri_df['precipitation'] = nyeri_precipitation_values\n",
    "nyeri_df['temp'] = nyeri_temp_values\n",
    "nyeri_df['wind'] = nyeri_wind_values\n",
    "\n",
    "nanyuki_df = pd.DataFrame()\n",
    "nanyuki_df['datetime'] = nanyuki_dates\n",
    "nanyuki_df['precipitation'] = nanyuki_precipitation_values\n",
    "nanyuki_df['temp'] = nanyuki_temp_values\n",
    "nanyuki_df['wind'] = nanyuki_wind_values"
   ]
  },
  {
   "cell_type": "code",
   "execution_count": 7,
   "metadata": {},
   "outputs": [],
   "source": [
    "#reset indexes to datetime\n",
    "embu_df.set_index('datetime', inplace=True)\n",
    "nyeri_df.set_index('datetime', inplace=True)\n",
    "nanyuki_df.set_index('datetime', inplace=True)"
   ]
  },
  {
   "cell_type": "code",
   "execution_count": 8,
   "metadata": {},
   "outputs": [],
   "source": [
    "#Nyeri\n",
    "# Shift the current temperature to the next day. \n",
    "embu_predicted_df = embu_df.temp.to_frame().shift(1).rename(columns = {\"temp\": \"temp_pred\" })\n",
    "embu_actual_df = embu_df.temp.to_frame().rename(columns = {\"temp\": \"temp_actual\" })\n",
    "\n",
    "# Concatenate the actual and predicted temperature\n",
    "embu_one_step_df = pd.concat([embu_actual_df, embu_predicted_df],axis=1)\n",
    "\n",
    "# Select from the second row, because there is no prediction for today due to shifting.\n",
    "embu_one_step_df = embu_one_step_df[1:]\n",
    "\n",
    "\n",
    "#Nyeri\n",
    "# Shift the current temperature to the next day. \n",
    "nyeri_predicted_df = nyeri_df.temp.to_frame().shift(1).rename(columns = {\"temp\": \"temp_pred\" })\n",
    "nyeri_actual_df = nyeri_df.temp.to_frame().rename(columns = {\"temp\": \"temp_actual\" })\n",
    "\n",
    "# Concatenate the actual and predicted temperature\n",
    "nyeri_one_step_df = pd.concat([nyeri_actual_df, nyeri_predicted_df],axis=1)\n",
    "\n",
    "# Select from the second row, because there is no prediction for today due to shifting.\n",
    "nyeri_one_step_df = nyeri_one_step_df[1:]\n",
    "\n",
    "\n",
    "#Nyeri\n",
    "# Shift the current temperature to the next day. \n",
    "nanyuki_predicted_df = nanyuki_df.temp.to_frame().shift(1).rename(columns = {\"temp\": \"temp_pred\" })\n",
    "nanyuki_actual_df = nanyuki_df.temp.to_frame().rename(columns = {\"temp\": \"temp_actual\" })\n",
    "\n",
    "# Concatenate the actual and predicted temperature\n",
    "nanyuki_one_step_df = pd.concat([nanyuki_actual_df, nanyuki_predicted_df],axis=1)\n",
    "\n",
    "# Select from the second row, because there is no prediction for today due to shifting.\n",
    "nanyuki_one_step_df = nanyuki_one_step_df[1:]\n",
    "\n"
   ]
  },
  {
   "cell_type": "code",
   "execution_count": 9,
   "metadata": {},
   "outputs": [],
   "source": [
    "# Define the p, d and q parameters to take any value between 0 and 2\n",
    "p = d = q = range(0, 2)\n",
    "\n",
    "# Generate all different combinations of p, q and q triplets\n",
    "pdq = list(itertools.product(p, d, q))\n",
    "\n",
    "# Generate all different combinations of seasonal p, q and q triplets\n",
    "seasonal_pdq = [(x[0], x[1], x[2], 12) for x in list(itertools.product(p, d, q))]"
   ]
  },
  {
   "cell_type": "code",
   "execution_count": 10,
   "metadata": {},
   "outputs": [
    {
     "data": {
      "text/plain": [
       "\"\\n#for embu\\nfor param in pdq:\\n    for param_seasonal in seasonal_pdq:\\n        try:\\n            mod = sm.tsa.statespace.SARIMAX(embu_one_step_df.temp_actual,\\n                                            order=param,\\n                                            seasonal_order=param_seasonal,\\n                                            enforce_stationarity=False,\\n                                            enforce_invertibility=False)\\n\\n            results = mod.fit()\\n\\n            print('SARIMA{}x{}12 - AIC:{}'.format(param, param_seasonal, results.aic))\\n        except:\\n            continue\\n            \\n            \\n# for nyeri          \\nfor param in pdq:\\n    for param_seasonal in seasonal_pdq:\\n        try:\\n            mod = sm.tsa.statespace.SARIMAX(nyeri_one_step_df.temp_actual,\\n                                            order=param,\\n                                            seasonal_order=param_seasonal,\\n                                            enforce_stationarity=False,\\n                                            enforce_invertibility=False)\\n\\n            results = mod.fit()\\n\\n            print('SARIMA{}x{}12 - AIC:{}'.format(param, param_seasonal, results.aic))\\n        except:\\n            continue\\n\\n\\n#for nanyuki            \\nfor param in pdq:\\n    for param_seasonal in seasonal_pdq:\\n        try:\\n            mod = sm.tsa.statespace.SARIMAX(nanyuki_one_step_df.temp_actual,\\n                                            order=param,\\n                                            seasonal_order=param_seasonal,\\n                                            enforce_stationarity=False,\\n                                            enforce_invertibility=False)\\n\\n            results = mod.fit()\\n\\n            print('SARIMA{}x{}12 - AIC:{}'.format(param, param_seasonal, results.aic))\\n        except:\\n            continue\\n            \\n\""
      ]
     },
     "execution_count": 10,
     "metadata": {},
     "output_type": "execute_result"
    }
   ],
   "source": [
    "'''\n",
    "#for embu\n",
    "for param in pdq:\n",
    "    for param_seasonal in seasonal_pdq:\n",
    "        try:\n",
    "            mod = sm.tsa.statespace.SARIMAX(embu_one_step_df.temp_actual,\n",
    "                                            order=param,\n",
    "                                            seasonal_order=param_seasonal,\n",
    "                                            enforce_stationarity=False,\n",
    "                                            enforce_invertibility=False)\n",
    "\n",
    "            results = mod.fit()\n",
    "\n",
    "            print('SARIMA{}x{}12 - AIC:{}'.format(param, param_seasonal, results.aic))\n",
    "        except:\n",
    "            continue\n",
    "            \n",
    "            \n",
    "# for nyeri          \n",
    "for param in pdq:\n",
    "    for param_seasonal in seasonal_pdq:\n",
    "        try:\n",
    "            mod = sm.tsa.statespace.SARIMAX(nyeri_one_step_df.temp_actual,\n",
    "                                            order=param,\n",
    "                                            seasonal_order=param_seasonal,\n",
    "                                            enforce_stationarity=False,\n",
    "                                            enforce_invertibility=False)\n",
    "\n",
    "            results = mod.fit()\n",
    "\n",
    "            print('SARIMA{}x{}12 - AIC:{}'.format(param, param_seasonal, results.aic))\n",
    "        except:\n",
    "            continue\n",
    "\n",
    "\n",
    "#for nanyuki            \n",
    "for param in pdq:\n",
    "    for param_seasonal in seasonal_pdq:\n",
    "        try:\n",
    "            mod = sm.tsa.statespace.SARIMAX(nanyuki_one_step_df.temp_actual,\n",
    "                                            order=param,\n",
    "                                            seasonal_order=param_seasonal,\n",
    "                                            enforce_stationarity=False,\n",
    "                                            enforce_invertibility=False)\n",
    "\n",
    "            results = mod.fit()\n",
    "\n",
    "            print('SARIMA{}x{}12 - AIC:{}'.format(param, param_seasonal, results.aic))\n",
    "        except:\n",
    "            continue\n",
    "            \n",
    "'''            "
   ]
  },
  {
   "cell_type": "code",
   "execution_count": 11,
   "metadata": {},
   "outputs": [
    {
     "name": "stdout",
     "output_type": "stream",
     "text": [
      "Trainign the Embu weather Model\n",
      "Training the Nyeri waether Model\n",
      "Training the Nayuki weather Model\n",
      "Hoooooorey! Finished Training all the models, Now saving them\n"
     ]
    }
   ],
   "source": [
    "#embu\n",
    "# Fit the SARIMAX model using optimal parameters\n",
    "print('Trainign the Embu weather Model')\n",
    "embu_mod = sm.tsa.statespace.SARIMAX(embu_one_step_df.temp_actual,\n",
    "                                order=(1, 1, 1),\n",
    "                                seasonal_order=(1, 1, 1, 12),\n",
    "                                enforce_stationarity=False,\n",
    "                                enforce_invertibility=False)\n",
    "\n",
    "embu_results = embu_mod.fit()\n",
    "\n",
    "\n",
    "#nyeri\n",
    "# Fit the SARIMAX model using optimal parameters\n",
    "print('Training the Nyeri waether Model')\n",
    "nyeri_mod = sm.tsa.statespace.SARIMAX(nyeri_one_step_df.temp_actual,\n",
    "                                order=(1, 1, 1),\n",
    "                                seasonal_order=(1, 1, 1, 12),\n",
    "                                enforce_stationarity=False,\n",
    "                                enforce_invertibility=False)\n",
    "\n",
    "nyeri_results = nyeri_mod.fit()\n",
    "\n",
    "\n",
    "#nanyuki\n",
    "# Fit the SARIMAX model using optimal parameters\n",
    "print('Training the Nayuki weather Model')\n",
    "nanyuki_mod = sm.tsa.statespace.SARIMAX(nanyuki_one_step_df.temp_actual,\n",
    "                                order=(1, 1, 1),\n",
    "                                seasonal_order=(1, 1, 1, 12),\n",
    "                                enforce_stationarity=False,\n",
    "                                enforce_invertibility=False)\n",
    "\n",
    "nanyuki_results = nanyuki_mod.fit()\n",
    "\n",
    "print('Hoooooorey! Finished Training all the models, Now saving them')"
   ]
  },
  {
   "cell_type": "code",
   "execution_count": 109,
   "metadata": {},
   "outputs": [
    {
     "name": "stdout",
     "output_type": "stream",
     "text": [
      "You just  saved the models and reached the end of the training, its time to do other things!\n"
     ]
    }
   ],
   "source": [
    "embu_model_name = 'embu_weather_model'\n",
    "nyeri_model_name = 'nyeri_weather_model'\n",
    "nanyuki_model_name = 'nayuki_weather_model'\n",
    "\n",
    "embu_results.save(embu_model_name, remove_data=False)\n",
    "nyeri_results.save(nyeri_model_name, remove_data=False)\n",
    "nanyuki_results.save(nanyuki_model_name, remove_data=False)\n",
    "\n",
    "print('You just  saved the models and reached the end of the training, its time to do other things!')"
   ]
  },
  {
   "cell_type": "code",
   "execution_count": 17,
   "metadata": {},
   "outputs": [],
   "source": [
    "nyeri_model_name = 'nyeri_weather_model' \n",
    "pickle.dump(nyeri_results, open(nyeri_model_name, 'wb'))"
   ]
  },
  {
   "cell_type": "code",
   "execution_count": 18,
   "metadata": {},
   "outputs": [],
   "source": [
    "nayuki_model_name = 'nanyuki_weather_model' \n",
    "pickle.dump(embu_results, open(nayuki_model_name, 'wb'))"
   ]
  },
  {
   "cell_type": "code",
   "execution_count": 19,
   "metadata": {},
   "outputs": [],
   "source": [
    "embu_model_name = 'embu_weather_model' \n",
    "pickle.dump(embu_results, open(embu_model_name, 'wb'))"
   ]
  },
  {
   "cell_type": "code",
   "execution_count": 20,
   "metadata": {},
   "outputs": [
    {
     "data": {
      "text/html": [
       "<div>\n",
       "<style scoped>\n",
       "    .dataframe tbody tr th:only-of-type {\n",
       "        vertical-align: middle;\n",
       "    }\n",
       "\n",
       "    .dataframe tbody tr th {\n",
       "        vertical-align: top;\n",
       "    }\n",
       "\n",
       "    .dataframe thead th {\n",
       "        text-align: right;\n",
       "    }\n",
       "</style>\n",
       "<table border=\"1\" class=\"dataframe\">\n",
       "  <thead>\n",
       "    <tr style=\"text-align: right;\">\n",
       "      <th></th>\n",
       "      <th>lower temp_actual</th>\n",
       "      <th>upper temp_actual</th>\n",
       "    </tr>\n",
       "  </thead>\n",
       "  <tbody>\n",
       "    <tr>\n",
       "      <th>2021-08-03</th>\n",
       "      <td>14.817879</td>\n",
       "      <td>18.326054</td>\n",
       "    </tr>\n",
       "  </tbody>\n",
       "</table>\n",
       "</div>"
      ],
      "text/plain": [
       "            lower temp_actual  upper temp_actual\n",
       "2021-08-03          14.817879          18.326054"
      ]
     },
     "execution_count": 20,
     "metadata": {},
     "output_type": "execute_result"
    }
   ],
   "source": [
    "loaded_model = pickle.load(open(embu_model_name, 'rb'))\n",
    "pred = loaded_model.get_prediction(start=pd.to_datetime('20210803'), dynamic=False)\n",
    "pred_ci = pred.conf_int()\n",
    "pred_ci"
   ]
  },
  {
   "cell_type": "code",
   "execution_count": 21,
   "metadata": {},
   "outputs": [
    {
     "data": {
      "text/html": [
       "<div>\n",
       "<style scoped>\n",
       "    .dataframe tbody tr th:only-of-type {\n",
       "        vertical-align: middle;\n",
       "    }\n",
       "\n",
       "    .dataframe tbody tr th {\n",
       "        vertical-align: top;\n",
       "    }\n",
       "\n",
       "    .dataframe thead th {\n",
       "        text-align: right;\n",
       "    }\n",
       "</style>\n",
       "<table border=\"1\" class=\"dataframe\">\n",
       "  <thead>\n",
       "    <tr style=\"text-align: right;\">\n",
       "      <th></th>\n",
       "      <th>lower temp_actual</th>\n",
       "      <th>upper temp_actual</th>\n",
       "    </tr>\n",
       "  </thead>\n",
       "  <tbody>\n",
       "    <tr>\n",
       "      <th>2021-08-03</th>\n",
       "      <td>14.817879</td>\n",
       "      <td>18.326054</td>\n",
       "    </tr>\n",
       "  </tbody>\n",
       "</table>\n",
       "</div>"
      ],
      "text/plain": [
       "            lower temp_actual  upper temp_actual\n",
       "2021-08-03          14.817879          18.326054"
      ]
     },
     "execution_count": 21,
     "metadata": {},
     "output_type": "execute_result"
    }
   ],
   "source": [
    "# load the embu model and try predicting\n",
    "embu_weather_model = sm.load('embu_weather_model')\n",
    "\n",
    "pred = embu_weather_model.get_prediction(start=pd.to_datetime('20210803'), dynamic=False)\n",
    "pred_ci = pred.conf_int()\n",
    "pred_ci"
   ]
  },
  {
   "cell_type": "code",
   "execution_count": 111,
   "metadata": {},
   "outputs": [
    {
     "data": {
      "text/html": [
       "<div>\n",
       "<style scoped>\n",
       "    .dataframe tbody tr th:only-of-type {\n",
       "        vertical-align: middle;\n",
       "    }\n",
       "\n",
       "    .dataframe tbody tr th {\n",
       "        vertical-align: top;\n",
       "    }\n",
       "\n",
       "    .dataframe thead th {\n",
       "        text-align: right;\n",
       "    }\n",
       "</style>\n",
       "<table border=\"1\" class=\"dataframe\">\n",
       "  <thead>\n",
       "    <tr style=\"text-align: right;\">\n",
       "      <th></th>\n",
       "      <th>lower temp_actual</th>\n",
       "      <th>upper temp_actual</th>\n",
       "    </tr>\n",
       "  </thead>\n",
       "  <tbody>\n",
       "    <tr>\n",
       "      <th>2021-08-03</th>\n",
       "      <td>13.027526</td>\n",
       "      <td>15.998946</td>\n",
       "    </tr>\n",
       "  </tbody>\n",
       "</table>\n",
       "</div>"
      ],
      "text/plain": [
       "            lower temp_actual  upper temp_actual\n",
       "2021-08-03          13.027526          15.998946"
      ]
     },
     "execution_count": 111,
     "metadata": {},
     "output_type": "execute_result"
    }
   ],
   "source": [
    "# load the embu model and try predicting\n",
    "nyeri_weather_model = sm.load('nyeri_weather_model')\n",
    "\n",
    "pred = nyeri_weather_model.get_prediction(start=pd.to_datetime('20210803'), dynamic=False)\n",
    "pred_ci = pred.conf_int()\n",
    "pred_ci"
   ]
  },
  {
   "cell_type": "code",
   "execution_count": 112,
   "metadata": {},
   "outputs": [
    {
     "name": "stdout",
     "output_type": "stream",
     "text": [
      "The lowest temp 16.109482893320624, the highest temp 19.376556090960847, and the mean temp is 17.743019492140736\n"
     ]
    }
   ],
   "source": [
    "# load the embu model and try predicting\n",
    "nayuki_weather_model = sm.load('nayuki_weather_model')\n",
    "\n",
    "pred = nayuki_weather_model.get_prediction(start=pd.to_datetime('20210803'), dynamic=False)\n",
    "pred_ci = pred.conf_int()\n",
    "low_temp = pred_ci['lower temp_actual'].tolist()[0]\n",
    "high_temp = pred_ci['upper temp_actual'].tolist()[0] \n",
    "mean_temp = (low_temp+high_temp)/2\n",
    "print('The lowest temp {}, the highest temp {}, and the mean temp is {}'.format(low_temp, high_temp, mean_temp))"
   ]
  },
  {
   "cell_type": "code",
   "execution_count": 113,
   "metadata": {},
   "outputs": [
    {
     "name": "stdout",
     "output_type": "stream",
     "text": [
      "Nyeri\n"
     ]
    }
   ],
   "source": [
    "city = 'nyerI'\n",
    "print(city.capitalize())"
   ]
  },
  {
   "cell_type": "code",
   "execution_count": null,
   "metadata": {},
   "outputs": [],
   "source": []
  }
 ],
 "metadata": {
  "kernelspec": {
   "display_name": "Python 3",
   "language": "python",
   "name": "python3"
  },
  "language_info": {
   "codemirror_mode": {
    "name": "ipython",
    "version": 3
   },
   "file_extension": ".py",
   "mimetype": "text/x-python",
   "name": "python",
   "nbconvert_exporter": "python",
   "pygments_lexer": "ipython3",
   "version": "3.8.3"
  }
 },
 "nbformat": 4,
 "nbformat_minor": 4
}
